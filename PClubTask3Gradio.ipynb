{
 "cells": [
  {
   "cell_type": "code",
   "execution_count": 1,
   "id": "9a2467c6-6843-49f1-b23c-cd3e8a2e09c9",
   "metadata": {},
   "outputs": [],
   "source": [
    "import pandas as pd\n",
    "import numpy as np\n",
    "import matplotlib.pyplot as plt\n",
    "import cv2\n",
    "import os\n",
    "import tensorflow as tf\n",
    "import matplotlib.pyplot as plt\n",
    "from keras.models import Sequential,load_model,Model\n",
    "from keras.layers import Conv2D,MaxPooling2D,AvgPool2D,GlobalAveragePooling2D,Dense,Dropout,BatchNormalization,Flatten,Input\n",
    "from sklearn.model_selection import train_test_split\n",
    "from tensorflow.keras.layers import Input,Activation,Add\n",
    "from tensorflow.keras.regularizers import l2\n",
    "from tensorflow.keras.optimizers import Adam\n",
    "from tensorflow.keras.callbacks import ModelCheckpoint\n",
    "from tensorflow.keras.models import load_model\n",
    "import gradio as gr\n",
    "from tensorflow.keras.preprocessing import image\n",
    "from tensorflow.keras.preprocessing.image import img_to_array\n",
    "from PIL import Image"
   ]
  },
  {
   "cell_type": "code",
   "execution_count": 2,
   "id": "b1c8e808-50ba-472a-93c9-953bda25bb37",
   "metadata": {},
   "outputs": [],
   "source": [
    "model_path = r\"C:\\Users\\rayar\\Downloads\\gender_model_epoch_21.keras\" #Replace with the path of the best model we saved from previous notebook\n",
    "# Loading the best model saved from previous notebook\n",
    "best_model = load_model(model_path)"
   ]
  },
  {
   "cell_type": "code",
   "execution_count": 3,
   "id": "f008ad26-86a0-4cb6-8e2c-81cebc339034",
   "metadata": {},
   "outputs": [],
   "source": [
    "def predict_gender(img):\n",
    "    img = cv2.cvtColor(img, cv2.COLOR_BGR2GRAY)\n",
    "    img = Image.fromarray(img)\n",
    "    img = img.resize((100, 100))\n",
    "    img_array = tf.keras.preprocessing.image.img_to_array(img)\n",
    "    img_array = np.expand_dims(img_array, axis=0)\n",
    "\n",
    "    predictions = best_model.predict(img_array)\n",
    "    predicted_class = np.argmax(predictions, axis=1)[0]\n",
    "\n",
    "    class_names = [\"Female\", \"Male\"]\n",
    "    result = class_names[predicted_class]\n",
    "\n",
    "    return result"
   ]
  },
  {
   "cell_type": "code",
   "execution_count": 4,
   "id": "b4520be3-c632-48a6-a169-64b0fa8511a3",
   "metadata": {},
   "outputs": [
    {
     "name": "stdout",
     "output_type": "stream",
     "text": [
      "\u001b[1m1/1\u001b[0m \u001b[32m━━━━━━━━━━━━━━━━━━━━\u001b[0m\u001b[37m\u001b[0m \u001b[1m1s\u001b[0m 506ms/step\n"
     ]
    },
    {
     "data": {
      "text/plain": [
       "'Female'"
      ]
     },
     "execution_count": 4,
     "metadata": {},
     "output_type": "execute_result"
    }
   ],
   "source": [
    "image = cv2.imread(r\"C:\\Users\\rayar\\Downloads\\00017_Mask.jpg\") #Replace with path of any image of your choice\n",
    "predict_gender(image)"
   ]
  },
  {
   "cell_type": "code",
   "execution_count": null,
   "id": "4c7c0b25-3108-4cd4-b88f-cd74e791e004",
   "metadata": {},
   "outputs": [
    {
     "name": "stdout",
     "output_type": "stream",
     "text": [
      "Running on local URL:  http://127.0.0.1:7860\n",
      "IMPORTANT: You are using gradio version 4.15.0, however version 4.29.0 is available, please upgrade.\n",
      "--------\n",
      "Running on public URL: https://3c2b9d7132e73ba14e.gradio.live\n",
      "\n",
      "This share link expires in 72 hours. For free permanent hosting and GPU upgrades, run `gradio deploy` from Terminal to deploy to Spaces (https://huggingface.co/spaces)\n"
     ]
    },
    {
     "data": {
      "text/html": [
       "<div><iframe src=\"https://3c2b9d7132e73ba14e.gradio.live\" width=\"100%\" height=\"500\" allow=\"autoplay; camera; microphone; clipboard-read; clipboard-write;\" frameborder=\"0\" allowfullscreen></iframe></div>"
      ],
      "text/plain": [
       "<IPython.core.display.HTML object>"
      ]
     },
     "metadata": {},
     "output_type": "display_data"
    },
    {
     "name": "stdout",
     "output_type": "stream",
     "text": [
      "\u001b[1m1/1\u001b[0m \u001b[32m━━━━━━━━━━━━━━━━━━━━\u001b[0m\u001b[37m\u001b[0m \u001b[1m0s\u001b[0m 95ms/step\n"
     ]
    }
   ],
   "source": [
    "interface = gr.Interface(\n",
    "    fn=predict_gender,\n",
    "    inputs=gr.components.Image(image_mode='RGB'),\n",
    "    outputs=gr.components.Textbox(),\n",
    "    title=\"Gender Prediction\",\n",
    "    description=\"Upload an RGB image of a face, and the model will predict the gender.\",\n",
    ")\n",
    "\n",
    "# We launch the Gradio interface\n",
    "interface.launch(share = True, debug = True)"
   ]
  },
  {
   "cell_type": "code",
   "execution_count": null,
   "id": "1efea9bd-1315-4290-889b-c53ae550bb05",
   "metadata": {},
   "outputs": [],
   "source": []
  }
 ],
 "metadata": {
  "kernelspec": {
   "display_name": "Python 3 (ipykernel)",
   "language": "python",
   "name": "python3"
  },
  "language_info": {
   "codemirror_mode": {
    "name": "ipython",
    "version": 3
   },
   "file_extension": ".py",
   "mimetype": "text/x-python",
   "name": "python",
   "nbconvert_exporter": "python",
   "pygments_lexer": "ipython3",
   "version": "3.11.5"
  }
 },
 "nbformat": 4,
 "nbformat_minor": 5
}
